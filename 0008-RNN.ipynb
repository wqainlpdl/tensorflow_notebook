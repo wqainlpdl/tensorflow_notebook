{
 "cells": [
  {
   "cell_type": "markdown",
   "metadata": {},
   "source": [
    "## RNN"
   ]
  },
  {
   "cell_type": "markdown",
   "metadata": {},
   "source": [
    "# 下面的代码来对mnist数据集使用RNN来进行分类"
   ]
  },
  {
   "cell_type": "code",
   "execution_count": 2,
   "metadata": {
    "scrolled": true
   },
   "outputs": [
    {
     "name": "stderr",
     "output_type": "stream",
     "text": [
      "H:\\anaconda_env\\anaconda_install\\lib\\site-packages\\h5py\\__init__.py:36: FutureWarning: Conversion of the second argument of issubdtype from `float` to `np.floating` is deprecated. In future, it will be treated as `np.float64 == np.dtype(float).type`.\n",
      "  from ._conv import register_converters as _register_converters\n"
     ]
    },
    {
     "name": "stdout",
     "output_type": "stream",
     "text": [
      "Extracting ./mnist/train-images-idx3-ubyte.gz\n",
      "Extracting ./mnist/train-labels-idx1-ubyte.gz\n",
      "Extracting ./mnist/t10k-images-idx3-ubyte.gz\n",
      "Extracting ./mnist/t10k-labels-idx1-ubyte.gz\n",
      "WARNING:tensorflow:From <ipython-input-2-44d8a747a90a>:42: softmax_cross_entropy_with_logits (from tensorflow.python.ops.nn_ops) is deprecated and will be removed in a future version.\n",
      "Instructions for updating:\n",
      "\n",
      "Future major versions of TensorFlow will allow gradients to flow\n",
      "into the labels input on backprop by default.\n",
      "\n",
      "See tf.nn.softmax_cross_entropy_with_logits_v2.\n",
      "\n",
      "Iterator : 1 accuracy : 0.7228\n",
      "Iterator : 2 accuracy : 0.8503\n",
      "Iterator : 3 accuracy : 0.8899\n",
      "Iterator : 4 accuracy : 0.9027\n",
      "Iterator : 5 accuracy : 0.9183\n"
     ]
    }
   ],
   "source": [
    "import tensorflow as tf\n",
    "from tensorflow.examples.tutorials.mnist import input_data\n",
    "from tensorflow.contrib import rnn\n",
    "#载入数据\n",
    "minist = input_data.read_data_sets(\"./mnist/\", one_hot=True)\n",
    "#输入图片是28*28\n",
    "#一行是28\n",
    "n_input = 28\n",
    "#一共28行\n",
    "max_time = 28\n",
    "#隐层单元\n",
    "lstm_size = 100\n",
    "#一共10个分类\n",
    "n_classes = 10\n",
    "#每批次50个样本\n",
    "batch_size = 50\n",
    "#一共多少个批次\n",
    "n_batch  = minist.train.num_examples//batch_size\n",
    " \n",
    "x = tf.placeholder(tf.float32,[None,784])\n",
    "y = tf.placeholder(tf.float32,[None,10])\n",
    " \n",
    "#初始化权值\n",
    "w = tf.Variable(tf.truncated_normal([lstm_size,n_classes],stddev=0.1))\n",
    "#初始化偏置值\n",
    "b = tf.Variable(tf.constant(0.1,shape=[n_classes]))\n",
    " \n",
    "#定义RNN网络\n",
    "def RNN(x,weights,biases):\n",
    "    #inputs = [batch_size,max_time,n_inputs]\n",
    "    inputs = tf.reshape(x,[-1,max_time,n_input])\n",
    "    #定义LSTM基本CELL\n",
    "    lstm_cell = rnn.BasicLSTMCell(lstm_size)\n",
    "    #final_state[0]是cell_state,  final_state[1]是hidden_state\n",
    "    out_puts,final_state = tf.nn.dynamic_rnn(lstm_cell,inputs,dtype=tf.float32)\n",
    "    result = tf.nn.softmax(tf.matmul(final_state[1],weights)+biases)\n",
    "    return result\n",
    " \n",
    "#计算RNN的返回结果\n",
    "prediction = RNN(x,w,b)\n",
    "#损失函数\n",
    "cross_entropy = tf.reduce_mean(tf.nn.softmax_cross_entropy_with_logits(labels=y,logits=prediction))\n",
    "#使用AdamOptimizer进行优化\n",
    "train_step = tf.train.AdamOptimizer(1e-4).minimize(cross_entropy)\n",
    "#结果存放在一个布尔列表中\n",
    "correct_prediction = tf.equal(tf.argmax(prediction,1),tf.argmax(y,1))\n",
    "#求准确率\n",
    "accuracy = tf.reduce_mean(tf.cast(correct_prediction,tf.float32))\n",
    "# 保存训练好的模型和参数\n",
    "saver = tf.train.Saver()\n",
    "init_op = tf.global_variables_initializer()    # 变量初始化\n",
    "with tf.Session() as sess:\n",
    "    sess.run(init_op)\n",
    "    for epoch in range(1, 6, 1):\n",
    "        for batch in range(n_batch):\n",
    "            batch_xs,batch_ys = minist.train.next_batch(batch_size)\n",
    "            sess.run(train_step,feed_dict={x:batch_xs,y:batch_ys})\n",
    "        acc = sess.run(accuracy,feed_dict={x:minist.test.images,y:minist.test.labels})\n",
    "        print('Iterator : '+str(epoch)+' accuracy : '+str(acc))\n",
    "    saver.save(sess, \"./RNN_Save/model.ckpt\")"
   ]
  },
  {
   "cell_type": "markdown",
   "metadata": {},
   "source": [
    "# 重新载入模型参数"
   ]
  },
  {
   "cell_type": "code",
   "execution_count": 4,
   "metadata": {},
   "outputs": [
    {
     "name": "stdout",
     "output_type": "stream",
     "text": [
      "INFO:tensorflow:Restoring parameters from ./RNN_Save/model.ckpt\n",
      "Iterator : 1 accuracy : 0.9388\n",
      "Iterator : 2 accuracy : 0.9375\n"
     ]
    }
   ],
   "source": [
    "#用于保存训练好的模型和参数\n",
    "saver = tf.train.Saver()\n",
    " \n",
    "with tf.Session() as sess:\n",
    "    sess.run(tf.global_variables_initializer())\n",
    "    saver.restore(sess, \"./RNN_Save/model.ckpt\")\n",
    "    for epoch in range(1, 3, 1):\n",
    "        for batch in range(n_batch):\n",
    "            batch_xs,batch_ys = minist.train.next_batch(batch_size)\n",
    "            sess.run(train_step,feed_dict={x:batch_xs,y:batch_ys})\n",
    "        acc = sess.run(accuracy,feed_dict={x:minist.test.images,y:minist.test.labels})\n",
    "        print('Iterator : '+str(epoch)+' accuracy : '+str(acc))\n",
    "    saver.save(sess, \"./RNN_Save/model.ckpt\")"
   ]
  }
 ],
 "metadata": {
  "kernelspec": {
   "display_name": "Python 3",
   "language": "python",
   "name": "python3"
  },
  "language_info": {
   "codemirror_mode": {
    "name": "ipython",
    "version": 3
   },
   "file_extension": ".py",
   "mimetype": "text/x-python",
   "name": "python",
   "nbconvert_exporter": "python",
   "pygments_lexer": "ipython3",
   "version": "3.6.5"
  }
 },
 "nbformat": 4,
 "nbformat_minor": 2
}
