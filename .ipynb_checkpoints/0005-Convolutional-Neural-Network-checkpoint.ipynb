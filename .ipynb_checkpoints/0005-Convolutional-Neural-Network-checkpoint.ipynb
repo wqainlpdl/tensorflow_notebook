{
 "cells": [
  {
   "cell_type": "markdown",
   "metadata": {},
   "source": [
    "# 卷积神经网络"
   ]
  },
  {
   "cell_type": "code",
   "execution_count": 1,
   "metadata": {},
   "outputs": [],
   "source": [
    "import tensorflow as tf\n",
    "import matplotlib.pyplot as plt\n",
    "from tensorflow.examples.tutorials.mnist import input_data"
   ]
  },
  {
   "cell_type": "code",
   "execution_count": 2,
   "metadata": {},
   "outputs": [
    {
     "name": "stdout",
     "output_type": "stream",
     "text": [
      "Extracting ./mnist/train-images-idx3-ubyte.gz\n",
      "Extracting ./mnist/train-labels-idx1-ubyte.gz\n",
      "Extracting ./mnist/t10k-images-idx3-ubyte.gz\n",
      "Extracting ./mnist/t10k-labels-idx1-ubyte.gz\n",
      "data is ready\n"
     ]
    }
   ],
   "source": [
    "mnist = input_data.read_data_sets(\"./mnist/\", one_hot = True)\n",
    "train_images = mnist.train.images\n",
    "train_labels = mnist.train.labels\n",
    "test_images = mnist.test.images\n",
    "test_labels = mnist.test.labels\n",
    "print(\"data is ready\")"
   ]
  },
  {
   "cell_type": "markdown",
   "metadata": {},
   "source": [
    "# Model Structure"
   ]
  },
  {
   "cell_type": "code",
   "execution_count": 3,
   "metadata": {},
   "outputs": [],
   "source": [
    "n_input = 784\n",
    "n_output = 10\n",
    "weights = {\n",
    "        \"wc1\": tf.Variable(tf.random_normal([3, 3, 1, 64], stddev = 0.1)),    # [height, width, channel, num]\n",
    "        \"wc2\": tf.Variable(tf.random_normal([3, 3, 64, 128], stddev = 0.1)),  \n",
    "        \"wd1\": tf.Variable(tf.random_normal([7 * 7 * 128, 1024], stddev = 0.1)),   # flatten layer\n",
    "        \"wd2\": tf.Variable(tf.random_normal([1024, n_output], stddev = 0.1))     # full connect layer\n",
    "}\n",
    "biases = {\n",
    "        \"bc1\": tf.Variable(tf.random_normal([64], stddev = 0.1)),\n",
    "        \"bc2\": tf.Variable(tf.random_normal([128], stddev = 0.1)),\n",
    "        \"bd1\": tf.Variable(tf.random_normal([1024], stddev = 0.1)),\n",
    "        \"bd2\": tf.Variable(tf.random_normal([n_output], stddev = 0.1))\n",
    "}"
   ]
  },
  {
   "cell_type": "code",
   "execution_count": 4,
   "metadata": {},
   "outputs": [
    {
     "name": "stdout",
     "output_type": "stream",
     "text": [
      "cnn ready\n"
     ]
    }
   ],
   "source": [
    "# 卷积运算\n",
    "def conv_basic(_input, _w, _b, _keepratio):\n",
    "    # 输入\n",
    "    _input_r = tf.reshape(_input, shape = [-1, 28, 28, 1])  # [num, height, width, channel] \n",
    "    # 第一个卷积层\n",
    "    _conv1_s = tf.nn.conv2d(_input_r, _w[\"wc1\"], strides = [1, 1, 1, 1], padding = \"SAME\")\n",
    "    _conv1 = tf.nn.relu(tf.nn_bias_add(_conv1_s, _b[\"bc1\"]))\n",
    "    _pool1 = tf.nn.max_pool(_conv1, ksize = [1, 2, 2, 1], strides = [1, 2, 2, 1], padding = \"SAME\")\n",
    "    _pool1_dr1 = tf.nn.dropout(_pool1, _keepratio)\n",
    "    # 第二个卷积层\n",
    "    _conv2_s = tf.nn.conv2d(_pool1_dr1, _w[\"wc2\"], strides = [1, 1, 1, 1], padding = \"SAME\")\n",
    "    _conv2 = tf.nn.relu(tf.nn.bias_add(_conv2_s, _b[\"bc2\"]))\n",
    "    _pool2 = tf.nn.max_pool(_conv2, ksize = [1, 2, 2, 1], strides = [1, 2, 2, 1], padding = \"SAME\")\n",
    "    _pool2_dr2 = tf.nn.dropout(_pool2, _keepratio)\n",
    "    # 扁平处理 \n",
    "    _dense1 = tf.reshape(_pool2_dr2, [-1, _w[\"wd1\"].get_shape().as_list()[0]])\n",
    "    # 第一个全连接层\n",
    "    _fc1 = tf.nn.relu(tf.add(tf.matmul(_dense1, _w[\"wd1\"]), _b[\"bd1\"]))\n",
    "    _fc1_dr1 = tf.nn.dropout(_fc1, _keepratio)\n",
    "    # 第二个全连接层\n",
    "    _out = tf.add(tf.matmul(_fc1_dr1, _w[\"wd2\"]), _b[\"bd2\"])\n",
    "    # 返回\n",
    "    out = {\n",
    "        \"input_r\": _input_r,\n",
    "        \"conv1\": _conv1,\n",
    "        \"pool1\": _pool1,\n",
    "        \"pool1_dr1\": _pool1_dr1,\n",
    "        \"conv2\": _conv2,\n",
    "        \"pool2\": _pool2_dr2,\n",
    "        \"dense1\": _dense1,\n",
    "        \"fc1\": _fc1,\n",
    "        \"fc_dr1\": _fc_dr1,\n",
    "        \"out\": _out\n",
    "    }\n",
    "    return out\n",
    "print(\"cnn ready\")"
   ]
  }
 ],
 "metadata": {
  "kernelspec": {
   "display_name": "Python 3",
   "language": "python",
   "name": "python3"
  },
  "language_info": {
   "codemirror_mode": {
    "name": "ipython",
    "version": 3
   },
   "file_extension": ".py",
   "mimetype": "text/x-python",
   "name": "python",
   "nbconvert_exporter": "python",
   "pygments_lexer": "ipython3",
   "version": "3.6.5"
  }
 },
 "nbformat": 4,
 "nbformat_minor": 2
}
