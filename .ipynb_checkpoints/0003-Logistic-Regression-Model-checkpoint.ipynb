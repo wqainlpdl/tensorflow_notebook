{
 "cells": [
  {
   "cell_type": "markdown",
   "metadata": {},
   "source": [
    "# Logistic Regression Model"
   ]
  },
  {
   "cell_type": "code",
   "execution_count": 1,
   "metadata": {},
   "outputs": [
    {
     "name": "stderr",
     "output_type": "stream",
     "text": [
      "H:\\anaconda_env\\anaconda_install\\lib\\site-packages\\h5py\\__init__.py:36: FutureWarning: Conversion of the second argument of issubdtype from `float` to `np.floating` is deprecated. In future, it will be treated as `np.float64 == np.dtype(float).type`.\n",
      "  from ._conv import register_converters as _register_converters\n"
     ]
    },
    {
     "name": "stdout",
     "output_type": "stream",
     "text": [
      "Extracting ./mnist/train-images-idx3-ubyte.gz\n",
      "Extracting ./mnist/train-labels-idx1-ubyte.gz\n",
      "Extracting ./mnist/t10k-images-idx3-ubyte.gz\n",
      "Extracting ./mnist/t10k-labels-idx1-ubyte.gz\n",
      "MNIST datasets loaded\n"
     ]
    }
   ],
   "source": [
    "import numpy as np\n",
    "import matplotlib.pyplot as plt\n",
    "import tensorflow as tf\n",
    "from tensorflow.examples.tutorials.mnist import input_data\n",
    "mnist = input_data.read_data_sets(\"./mnist/\", one_hot = True)\n",
    "train_imgs = mnist.train.images\n",
    "train_labels = mnist.train.labels\n",
    "test_imgs = mnist.test.images\n",
    "test_labels = mnist.test.labels\n",
    "print(\"MNIST datasets loaded\")"
   ]
  },
  {
   "cell_type": "markdown",
   "metadata": {},
   "source": [
    "## sample shape and information"
   ]
  },
  {
   "cell_type": "code",
   "execution_count": 2,
   "metadata": {},
   "outputs": [
    {
     "name": "stdout",
     "output_type": "stream",
     "text": [
      "train images shape = (55000, 784)\n",
      "train labels shape = (55000, 10)\n",
      "test images shape = (10000, 784)\n",
      "test labels shape = (10000, 10)\n",
      "train labels the first image label onehot code = [0. 0. 0. 0. 0. 0. 0. 1. 0. 0.]\n"
     ]
    }
   ],
   "source": [
    "print(\"train images shape = {0}\".format(train_imgs.shape))\n",
    "print(\"train labels shape = {0}\".format(train_labels.shape))\n",
    "print(\"test images shape = {0}\".format(test_imgs.shape))\n",
    "print(\"test labels shape = {0}\".format(test_labels.shape))\n",
    "print(\"train labels the first image label onehot code = {0}\".format(train_labels[0]))"
   ]
  },
  {
   "cell_type": "markdown",
   "metadata": {},
   "source": [
    "## 开始训练Logistic Regression Model"
   ]
  },
  {
   "cell_type": "code",
   "execution_count": 5,
   "metadata": {},
   "outputs": [],
   "source": [
    "x = tf.placeholder(dtype = tf.float32, shape = [None, 784])\n",
    "y = tf.placeholder(dtype = tf.float32, shape = [None, 10])\n",
    "W = tf.Variable(tf.zeros([784, 10]))\n",
    "b = tf.Variable(tf.zeros([10]))\n",
    "# Logistic Regression Model\n",
    "activation = tf.nn.softmax(tf.matmul(x, W) + b) # softmax是更高版本的Logistic Regression\n",
    "# cost function\n",
    "cost = tf.reduce_mean(-tf.reduce_sum(y * tf.log(activation), reduction_indices = 1))\n",
    "# optimizer\n",
    "optimizer = tf.train.GradientDescentOptimizer(learning_rate = 0.01)\n",
    "train_op = optimizer.minimize(cost)"
   ]
  },
  {
   "cell_type": "code",
   "execution_count": null,
   "metadata": {},
   "outputs": [],
   "source": [
    "# prediction\n",
    "pred = tf.equal(tf.argmax(activation, 1), tf.argmax(y, 1)) # 比较输出值的最大值的索引与目标值最大值的索引是否相等\n",
    "# accuracy\n",
    "acc = tf.reduce_mean(tf.cast(pred, dtype = tf.float32)) # pred的值是一个boolean值， True or False，cast函数将pred转换为float类型\n",
    "# initialize variable\n",
    "init_op = tf.global_variables_initializer()\n"
   ]
  }
 ],
 "metadata": {
  "kernelspec": {
   "display_name": "Python 3",
   "language": "python",
   "name": "python3"
  },
  "language_info": {
   "codemirror_mode": {
    "name": "ipython",
    "version": 3
   },
   "file_extension": ".py",
   "mimetype": "text/x-python",
   "name": "python",
   "nbconvert_exporter": "python",
   "pygments_lexer": "ipython3",
   "version": "3.6.6"
  }
 },
 "nbformat": 4,
 "nbformat_minor": 2
}
