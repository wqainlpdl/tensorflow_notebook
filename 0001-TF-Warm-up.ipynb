{
 "cells": [
  {
   "cell_type": "markdown",
   "metadata": {},
   "source": [
    "# tenforflow warm-up"
   ]
  },
  {
   "cell_type": "code",
   "execution_count": 1,
   "metadata": {},
   "outputs": [
    {
     "name": "stderr",
     "output_type": "stream",
     "text": [
      "H:\\anaconda_env\\anaconda_install\\lib\\site-packages\\h5py\\__init__.py:36: FutureWarning: Conversion of the second argument of issubdtype from `float` to `np.floating` is deprecated. In future, it will be treated as `np.float64 == np.dtype(float).type`.\n",
      "  from ._conv import register_converters as _register_converters\n"
     ]
    },
    {
     "name": "stdout",
     "output_type": "stream",
     "text": [
      "in tensorflow, the data format of y is Tensor(\"MatMul:0\", shape=(1, 1), dtype=float32)\n",
      "the value of y = [[2.]]\n"
     ]
    }
   ],
   "source": [
    "import tensorflow as tf\n",
    "# create variable\n",
    "W = tf.Variable([[0.5, 1.0]])\n",
    "x = tf.Variable([[2.0], [1.0]])\n",
    "y = tf. matmul(W, x)\n",
    "print(\"in tensorflow, the data format of y is {0}\".format(y))\n",
    "init_op = tf.global_variables_initializer()\n",
    "with tf.Session() as sess:\n",
    "    sess.run(init_op)\n",
    "    print(\"the value of y = {0}\".format(y.eval()))"
   ]
  },
  {
   "cell_type": "markdown",
   "metadata": {},
   "source": [
    "# create different dim of tensor"
   ]
  },
  {
   "cell_type": "code",
   "execution_count": 8,
   "metadata": {},
   "outputs": [
    {
     "name": "stdout",
     "output_type": "stream",
     "text": [
      "constant_zeros = [[0. 0. 0. 0.]\n",
      " [0. 0. 0. 0.]\n",
      " [0. 0. 0. 0.]]\n",
      "the new constant_zeros = [[0. 0. 0. 0.]\n",
      " [0. 0. 0. 0.]\n",
      " [0. 0. 0. 0.]]\n",
      "the full-one matrix = [[1 1 1 1]\n",
      " [1 1 1 1]\n",
      " [1 1 1 1]]\n",
      "the ones-like matrix = [[0. 0. 0. 0.]\n",
      " [0. 0. 0. 0.]\n",
      " [0. 0. 0. 0.]]\n",
      "for the tensor of 1 dim = [1 2 3 4 5]\n",
      "for the tensor of 2 dim = [[3. 3. 3.]\n",
      " [3. 3. 3.]]\n",
      "the equal difference series = [10. 11. 12.]\n",
      "the list in tensorflow is similar to numpy, the value is [ 3  6  9 12]\n"
     ]
    }
   ],
   "source": [
    "# 输出一个tensor的值有两种方式，第一种是使用eval，第二种是使用sess.run\n",
    "with tf.Session() as sess:\n",
    "    constant_zeros = tf.zeros([3, 4], dtype = tf.float32)\n",
    "    print(\"constant_zeros = {0}\".format(constant_zeros.eval()))\n",
    "    constant_zeros_like = tf.zeros_like(constant_zeros)\n",
    "    print(\"the new constant_zeros = {0}\".format(constant_zeros_like.eval()))\n",
    "    constant_ones = tf.ones(shape = [3, 4], dtype = tf.int32)\n",
    "    print(\"the full-one matrix = {0}\".format(constant_ones.eval()))          #   方式一  \n",
    "    constant_ones_like = tf.ones_like(constant_ones)\n",
    "    print(\"the ones-like matrix = {0}\".format(sess.run(constant_zeros_like))) # 方式二\n",
    "    # create tensor-1D\n",
    "    tensor_1D = tf.constant([1, 2, 3, 4, 5])\n",
    "    print(\"for the tensor of 1 dim = {0}\".format(tensor_1D.eval()))\n",
    "    # create tensor-2D\n",
    "    tensor_2D =  tf.constant(3.0, shape = [2, 3])\n",
    "    print(\"for the tensor of 2 dim = {0}\".format(sess.run(tensor_2D)))\n",
    "    # create number sequence\n",
    "    num_seq = tf.linspace(10.0, 12.0, 3)     # 等差数列\n",
    "    print(\"the equal difference series = {0}\".format(num_seq.eval()))\n",
    "    # create a list \n",
    "    tf_list = tf.range(3, 15, 3)\n",
    "    print(\"the list in tensorflow is similar to numpy, the value is {0}\".format(sess.run(tf_list)) )"
   ]
  },
  {
   "cell_type": "markdown",
   "metadata": {},
   "source": [
    "# we can create different distribution in tensorflow, such as Gaussian"
   ]
  },
  {
   "cell_type": "code",
   "execution_count": 13,
   "metadata": {},
   "outputs": [
    {
     "name": "stdout",
     "output_type": "stream",
     "text": [
      "the standard gaussian distribution, value = [[ 0.25636742 -1.5764154   1.638669  ]\n",
      " [-0.8690325  -1.893317   -1.4236875 ]]\n",
      "shuffle a tensor, the value = [[3 4]\n",
      " [1 2]\n",
      " [5 6]]\n"
     ]
    }
   ],
   "source": [
    "with tf.Session() as sess:\n",
    "    std_norm = tf.random_normal([2, 3], mean = 0., stddev = 1.)\n",
    "    print(\"the standard gaussian distribution, value = {0}\".format(sess.run(std_norm)))\n",
    "    constant_shuffle = tf.random_shuffle(tf.constant([[1, 2], [3, 4], [5, 6]]))\n",
    "    print(\"shuffle a tensor, the value = {0}\".format(sess.run(constant_shuffle)))"
   ]
  },
  {
   "cell_type": "markdown",
   "metadata": {},
   "source": [
    "# 使用tensorflow来实现 for loop"
   ]
  },
  {
   "cell_type": "code",
   "execution_count": 14,
   "metadata": {},
   "outputs": [
    {
     "name": "stdout",
     "output_type": "stream",
     "text": [
      "0\n",
      "1\n",
      "2\n",
      "3\n"
     ]
    }
   ],
   "source": [
    "state = tf.Variable(0)\n",
    "new_value = tf.add(state, tf.constant(1))\n",
    "update = tf.assign(state, new_value)       # update the value of state\n",
    "init_op = tf.global_variables_initializer()    # 一旦使用到了variable 就必须进行全局初始化\n",
    "with tf.Session() as sess:                 \n",
    "    sess.run(init_op)\n",
    "    print(sess.run(state))\n",
    "    for _ in range(3):                     # 全局执行，从创建变量处就开始运行程序\n",
    "        sess.run(update)\n",
    "        print(sess.run(state))"
   ]
  },
  {
   "cell_type": "markdown",
   "metadata": {},
   "source": [
    "# tensoflow中的保存方式Saver"
   ]
  },
  {
   "cell_type": "code",
   "execution_count": 15,
   "metadata": {},
   "outputs": [
    {
     "name": "stdout",
     "output_type": "stream",
     "text": [
      "Model Variable in file: .//model_variable//\n"
     ]
    }
   ],
   "source": [
    "# 使用tf,train.Saver来保存数据到文件中\n",
    "W = tf.Variable([[0.5, 1.0]])\n",
    "x = tf.Variable([[2.0], [1.0]])\n",
    "y = tf.matmul(W, x)\n",
    "init_op = tf.global_variables_initializer()\n",
    "saver = tf.train.Saver()     # 创建Saver类的实例对象\n",
    "with tf.Session() as sess:\n",
    "    sess.run(init_op)\n",
    "    '''\n",
    "    在使用tensorflow 来训练模型时，将模型的设计和训练部分在此处实现\n",
    "    此处省略若干步\n",
    "    '''\n",
    "    save_path = saver.save(sess, \".//model_variable//\")     # 保存到当前目录下的model_variable文件夹下\n",
    "    print(\"Model Variable in file: {0}\".format(save_path))  # 输出数据保存的文件夹的路径"
   ]
  },
  {
   "cell_type": "markdown",
   "metadata": {},
   "source": [
    "# numpy 中的ndarray和tensorflow 中的tensor的相互转化"
   ]
  },
  {
   "cell_type": "code",
   "execution_count": 16,
   "metadata": {},
   "outputs": [
    {
     "name": "stdout",
     "output_type": "stream",
     "text": [
      "after transform, the value = [[0. 0. 0.]\n",
      " [0. 0. 0.]\n",
      " [0. 0. 0.]]\n",
      "trans_a's info: Tensor(\"Const_7:0\", shape=(3, 3), dtype=float64)\n"
     ]
    }
   ],
   "source": [
    "import numpy as np\n",
    "a = np.zeros((3, 3))\n",
    "trans_a = tf.convert_to_tensor(a)\n",
    "with tf.Session() as sess:\n",
    "    print(\"after transform, the value = {0}\".format(sess.run(trans_a)))\n",
    "    print(\"trans_a's info: {0}\".format(trans_a))"
   ]
  },
  {
   "cell_type": "markdown",
   "metadata": {},
   "source": [
    "# tensorflow中的placeholder"
   ]
  },
  {
   "cell_type": "code",
   "execution_count": 17,
   "metadata": {},
   "outputs": [
    {
     "name": "stdout",
     "output_type": "stream",
     "text": [
      "the product result = 70.0\n"
     ]
    }
   ],
   "source": [
    "input_1 = tf.placeholder(dtype = tf.float32)     # 在创建占位符的时候，就跟其他语言一样，需要指定此处占位的数据的类型\n",
    "input_2 = tf.placeholder(dtype = tf.float32)\n",
    "output = tf.multiply(input_1, input_2)\n",
    "with tf.Session() as sess:\n",
    "    product_result = sess.run(output, feed_dict = {input_1:7.0, input_2:10.0})    # 给占位的数据赋值\n",
    "    print(\"the product result = {0}\".format(product_result))"
   ]
  }
 ],
 "metadata": {
  "kernelspec": {
   "display_name": "Python 3",
   "language": "python",
   "name": "python3"
  },
  "language_info": {
   "codemirror_mode": {
    "name": "ipython",
    "version": 3
   },
   "file_extension": ".py",
   "mimetype": "text/x-python",
   "name": "python",
   "nbconvert_exporter": "python",
   "pygments_lexer": "ipython3",
   "version": "3.6.5"
  }
 },
 "nbformat": 4,
 "nbformat_minor": 2
}
