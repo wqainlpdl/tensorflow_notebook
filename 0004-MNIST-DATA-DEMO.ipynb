{
 "cells": [
  {
   "cell_type": "markdown",
   "metadata": {},
   "source": [
    "# MNIST数据集是一个计算机视觉数据集，它包含70000张手写数字的灰度图片\n",
    "# 其中每一张图片包含28 * 28个像素点，本文件主要目的在于可视化部分图片"
   ]
  },
  {
   "cell_type": "code",
   "execution_count": 2,
   "metadata": {},
   "outputs": [
    {
     "name": "stdout",
     "output_type": "stream",
     "text": [
      "Download and Extract MNIST dataset\n",
      "Extracting ./mnist/train-images-idx3-ubyte.gz\n",
      "Extracting ./mnist/train-labels-idx1-ubyte.gz\n",
      "Extracting ./mnist/t10k-images-idx3-ubyte.gz\n",
      "Extracting ./mnist/t10k-labels-idx1-ubyte.gz\n",
      "type of mnist is <class 'tensorflow.contrib.learn.python.learn.datasets.base.Datasets'>\n"
     ]
    }
   ],
   "source": [
    "import tensorflow as tf\n",
    "import matplotlib.pyplot as plt\n",
    "from tensorflow.examples.tutorials.mnist import input_data\n",
    "print(\"Download and Extract MNIST dataset\")\n",
    "mnist = input_data.read_data_sets(\"./mnist/\", one_hot = True)\n",
    "print(\"type of mnist is {0}\".format(type(mnist)))"
   ]
  },
  {
   "cell_type": "markdown",
   "metadata": {},
   "source": [
    "## 训练数据和测试数据的样本数量"
   ]
  },
  {
   "cell_type": "code",
   "execution_count": 3,
   "metadata": {},
   "outputs": [
    {
     "name": "stdout",
     "output_type": "stream",
     "text": [
      "number of train data images is 55000\n",
      "number of test data images is 10000\n",
      "number of validation data images is 5000\n"
     ]
    }
   ],
   "source": [
    "print(\"number of train data images is {0}\".format(mnist.train.num_examples))   # 训练数据的图片数量\n",
    "print(\"number of test data images is {0}\".format(mnist.test.num_examples))     # 测试数据的图片数量\n",
    "print(\"number of validation data images is {0}\".format(mnist.validation.num_examples))   # 验证集数据的图片数量"
   ]
  },
  {
   "cell_type": "markdown",
   "metadata": {},
   "source": [
    "## 深入探索MNIST数据的各个特征"
   ]
  },
  {
   "cell_type": "code",
   "execution_count": 4,
   "metadata": {},
   "outputs": [
    {
     "name": "stdout",
     "output_type": "stream",
     "text": [
      "How does the feature of MNIST Data?\n",
      "type of the train images is <class 'numpy.ndarray'>\n",
      "type of the train labels is <class 'numpy.ndarray'>\n",
      "type of the validation images is <class 'numpy.ndarray'>\n",
      "type of the validation labels is <class 'numpy.ndarray'>\n",
      "type of the test images is <class 'numpy.ndarray'>\n",
      "type of the test labels is <class 'numpy.ndarray'>\n"
     ]
    }
   ],
   "source": [
    "print(\"How does the feature of MNIST Data?\")\n",
    "train_images = mnist.train.images\n",
    "train_labels = mnist.train.labels\n",
    "validation_images = mnist.validation.images\n",
    "validation_labels = mnist.validation.labels\n",
    "test_images = mnist.test.images\n",
    "test_labels = mnist.test.labels\n",
    "print(\"type of the train images is {0}\".format(type(train_images)))\n",
    "print(\"type of the train labels is {0}\".format(type(train_labels)))\n",
    "print(\"type of the validation images is {0}\".format(type(validation_images)))\n",
    "print(\"type of the validation labels is {0}\".format(type(validation_labels)))\n",
    "print(\"type of the test images is {0}\".format(type(test_images)))\n",
    "print(\"type of the test labels is {0}\".format(type(test_labels)))"
   ]
  },
  {
   "cell_type": "markdown",
   "metadata": {},
   "source": [
    "## 输出几个样本图片"
   ]
  },
  {
   "cell_type": "code",
   "execution_count": 5,
   "metadata": {},
   "outputs": [
    {
     "name": "stdout",
     "output_type": "stream",
     "text": [
      "demo the training images\n",
      "33003th Training image Label is 9\n"
     ]
    },
    {
     "data": {
      "image/png": "[encoded data removed]",
      "text/plain": [
       "<Figure size 288x288 with 1 Axes>"
      ]
     },
     "metadata": {},
     "output_type": "display_data"
    },
    {
     "name": "stdout",
     "output_type": "stream",
     "text": [
      "12172th Training image Label is 5\n"
     ]
    },
    {
     "data": {
      "image/png": "[encoded data removed]",
      "text/plain": [
       "<Figure size 288x288 with 1 Axes>"
      ]
     },
     "metadata": {},
     "output_type": "display_data"
    },
    {
     "name": "stdout",
     "output_type": "stream",
     "text": [
      "5192th Training image Label is 5\n"
     ]
    },
    {
     "data": {
      "image/png": "[encoded data removed]",
      "text/plain": [
       "<Figure size 288x288 with 1 Axes>"
      ]
     },
     "metadata": {},
     "output_type": "display_data"
    },
    {
     "name": "stdout",
     "output_type": "stream",
     "text": [
      "32511th Training image Label is 0\n"
     ]
    },
    {
     "data": {
      "image/png": "[encoded data removed]",
      "text/plain": [
       "<Figure size 288x288 with 1 Axes>"
      ]
     },
     "metadata": {},
     "output_type": "display_data"
    },
    {
     "name": "stdout",
     "output_type": "stream",
     "text": [
      "50057th Training image Label is 6\n"
     ]
    },
    {
     "data": {
      "image/png": "[encoded data removed]",
      "text/plain": [
       "<Figure size 288x288 with 1 Axes>"
      ]
     },
     "metadata": {},
     "output_type": "display_data"
    }
   ],
   "source": [
    "import numpy as np\n",
    "np.random.seed(1)    # 设置随机数种子，保证每次运行随机产生的样本都一样，也可以不指定，不过，每次运行产生的样本不同\n",
    "print(\"demo the training images\")\n",
    "nsamples = 5\n",
    "randindex = np.random.randint(train_images.shape[0], size = nsamples)\n",
    "for i in randindex:\n",
    "    curr_image = np.reshape(train_images[i, :], (28, 28))\n",
    "    curr_label = np.argmax(train_labels[i, :])\n",
    "    plt.matshow(curr_image, cmap = plt.get_cmap(\"gray\"))\n",
    "    print(\"\" + str(i) + \"th Training image \" + \"Label is \" + str(curr_label))\n",
    "    plt.show()"
   ]
  },
  {
   "cell_type": "markdown",
   "metadata": {},
   "source": [
    "## Batch Data feature"
   ]
  },
  {
   "cell_type": "code",
   "execution_count": 7,
   "metadata": {},
   "outputs": [
    {
     "name": "stdout",
     "output_type": "stream",
     "text": [
      "Batch data feature\n",
      "type of 'batch_xs' is <class 'numpy.ndarray'>\n",
      "type of 'batch_ys' is <class 'numpy.ndarray'>\n",
      "shape of 'batch_xs' is (100, 784)\n",
      "shape of 'batch_ys' is (100, 10)\n"
     ]
    }
   ],
   "source": [
    "print(\"Batch data feature\")\n",
    "batch_size = 100\n",
    "batch_xs, batch_ys = mnist.train.next_batch(batch_size)\n",
    "print(\"type of 'batch_xs' is {0}\".format(type(batch_xs)))\n",
    "print(\"type of 'batch_ys' is {0}\".format(type(batch_ys)))\n",
    "print(\"shape of 'batch_xs' is {0}\".format(batch_xs.shape))\n",
    "print(\"shape of 'batch_ys' is {0}\".format(batch_ys.shape))"
   ]
  }
 ],
 "metadata": {
  "kernelspec": {
   "display_name": "Python 3",
   "language": "python",
   "name": "python3"
  },
  "language_info": {
   "codemirror_mode": {
    "name": "ipython",
    "version": 3
   },
   "file_extension": ".py",
   "mimetype": "text/x-python",
   "name": "python",
   "nbconvert_exporter": "python",
   "pygments_lexer": "ipython3",
   "version": "3.6.5"
  }
 },
 "nbformat": 4,
 "nbformat_minor": 2
}
