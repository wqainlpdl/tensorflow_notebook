{
 "cells": [
  {
   "cell_type": "markdown",
   "metadata": {},
   "source": [
    "# Logistic Regression Model"
   ]
  },
  {
   "cell_type": "code",
   "execution_count": 1,
   "metadata": {},
   "outputs": [
    {
     "name": "stderr",
     "output_type": "stream",
     "text": [
      "H:\\anaconda_env\\anaconda_install\\lib\\site-packages\\h5py\\__init__.py:36: FutureWarning: Conversion of the second argument of issubdtype from `float` to `np.floating` is deprecated. In future, it will be treated as `np.float64 == np.dtype(float).type`.\n",
      "  from ._conv import register_converters as _register_converters\n"
     ]
    },
    {
     "name": "stdout",
     "output_type": "stream",
     "text": [
      "Extracting ./mnist/train-images-idx3-ubyte.gz\n",
      "Extracting ./mnist/train-labels-idx1-ubyte.gz\n",
      "Extracting ./mnist/t10k-images-idx3-ubyte.gz\n",
      "Extracting ./mnist/t10k-labels-idx1-ubyte.gz\n",
      "MNIST datasets loaded\n"
     ]
    }
   ],
   "source": [
    "import numpy as np\n",
    "import matplotlib.pyplot as plt\n",
    "import tensorflow as tf\n",
    "from tensorflow.examples.tutorials.mnist import input_data\n",
    "mnist = input_data.read_data_sets(\"./mnist/\", one_hot = True)\n",
    "train_imgs = mnist.train.images\n",
    "train_labels = mnist.train.labels\n",
    "test_imgs = mnist.test.images\n",
    "test_labels = mnist.test.labels\n",
    "print(\"MNIST datasets loaded\")"
   ]
  },
  {
   "cell_type": "markdown",
   "metadata": {},
   "source": [
    "## sample shape and information"
   ]
  },
  {
   "cell_type": "code",
   "execution_count": 2,
   "metadata": {},
   "outputs": [
    {
     "name": "stdout",
     "output_type": "stream",
     "text": [
      "train images shape = (55000, 784)\n",
      "train labels shape = (55000, 10)\n",
      "test images shape = (10000, 784)\n",
      "test labels shape = (10000, 10)\n",
      "train labels the first image label onehot code = [0. 0. 0. 0. 0. 0. 0. 1. 0. 0.]\n"
     ]
    }
   ],
   "source": [
    "print(\"train images shape = {0}\".format(train_imgs.shape))\n",
    "print(\"train labels shape = {0}\".format(train_labels.shape))\n",
    "print(\"test images shape = {0}\".format(test_imgs.shape))\n",
    "print(\"test labels shape = {0}\".format(test_labels.shape))\n",
    "print(\"train labels the first image label onehot code = {0}\".format(train_labels[0]))"
   ]
  },
  {
   "cell_type": "markdown",
   "metadata": {},
   "source": [
    "## 开始训练Logistic Regression Model"
   ]
  },
  {
   "cell_type": "code",
   "execution_count": 3,
   "metadata": {},
   "outputs": [],
   "source": [
    "x = tf.placeholder(dtype = tf.float32, shape = [None, 784])\n",
    "y = tf.placeholder(dtype = tf.float32, shape = [None, 10])\n",
    "W = tf.Variable(tf.zeros([784, 10]))\n",
    "b = tf.Variable(tf.zeros([10]))\n",
    "# Logistic Regression Model\n",
    "activation = tf.nn.softmax(tf.matmul(x, W) + b) # softmax是更高版本的Logistic Regression\n",
    "# cost function\n",
    "cost = tf.reduce_mean(-tf.reduce_sum(y * tf.log(activation), reduction_indices = 1))\n",
    "# optimizer\n",
    "optimizer = tf.train.GradientDescentOptimizer(learning_rate = 0.01)\n",
    "train_op = optimizer.minimize(cost)"
   ]
  },
  {
   "cell_type": "code",
   "execution_count": 4,
   "metadata": {},
   "outputs": [],
   "source": [
    "# prediction\n",
    "pred = tf.equal(tf.argmax(activation, 1), tf.argmax(y, 1)) # 比较输出值的最大值的索引与目标值最大值的索引是否相等\n",
    "# accuracy\n",
    "acc = tf.reduce_mean(tf.cast(pred, dtype = tf.float32)) # pred的值是一个boolean值， True or False，cast函数将pred转换为float类型\n",
    "# initialize variable\n",
    "init_op = tf.global_variables_initializer()"
   ]
  },
  {
   "cell_type": "markdown",
   "metadata": {},
   "source": [
    "## 测试一些与矩阵相关的函数"
   ]
  },
  {
   "cell_type": "code",
   "execution_count": 5,
   "metadata": {},
   "outputs": [
    {
     "name": "stdout",
     "output_type": "stream",
     "text": [
      "matrix dimension(rank) = 2\n",
      "matrix shape = [5 6]\n",
      "for every column, the index of the max value is [0 3 2 3 0 1]\n",
      "for every row, the index of the max value is [5 5 2 3 3]\n"
     ]
    }
   ],
   "source": [
    "sess = tf.InteractiveSession()   # start Interactive Session\n",
    "matrix_test = np.array([[31, 23, 4, 24, 27,34],\n",
    "                        [18, 3, 25, 0, 6, 35],\n",
    "                        [28, 14, 33, 22, 20, 8],\n",
    "                        [13, 30, 26, 32, 2, 29],\n",
    "                        [16, 1, 26, 32, 2, 2]])\n",
    "# test matrix dimension(rank)\n",
    "matrix_rank = tf.rank(matrix_test)\n",
    "print(\"matrix dimension(rank) = {0}\".format(matrix_rank.eval()))\n",
    "# test matrix shape\n",
    "matrix_shape = tf.shape(matrix_test)\n",
    "print(\"matrix shape = {0}\".format(matrix_shape.eval()))\n",
    "# return the index of the max value\n",
    "matrix_colIndex_maxValue = tf.argmax(matrix_test, 0)  # for each column, return the index of the max value\n",
    "print(\"for every column, the index of the max value is {0}\".format(sess.run(matrix_colIndex_maxValue)))\n",
    "matrix_rowIndex_maxValue = tf.argmax(matrix_test, 1)  # for each row, return the index of the max value\n",
    "print(\"for every row, the index of the max value is {0}\".format(sess.run(matrix_rowIndex_maxValue)))\n",
    "sess.close()         # close Session"
   ]
  },
  {
   "cell_type": "markdown",
   "metadata": {},
   "source": [
    "## 初始化变量，进行模型的训练"
   ]
  },
  {
   "cell_type": "code",
   "execution_count": 8,
   "metadata": {},
   "outputs": [
    {
     "name": "stdout",
     "output_type": "stream",
     "text": [
      "Epoch: 005/050 cost: 255.111741275 train_acc: 0.920 test_acc: 0.891\n",
      "Epoch: 010/050 cost: 215.039101765 train_acc: 0.920 test_acc: 0.903\n",
      "Epoch: 015/050 cost: 198.756156459 train_acc: 0.910 test_acc: 0.908\n",
      "Epoch: 020/050 cost: 189.285640299 train_acc: 0.920 test_acc: 0.912\n",
      "Epoch: 025/050 cost: 182.858925641 train_acc: 0.930 test_acc: 0.914\n",
      "Epoch: 030/050 cost: 178.093470544 train_acc: 0.870 test_acc: 0.915\n",
      "Epoch: 035/050 cost: 174.430412233 train_acc: 0.910 test_acc: 0.917\n",
      "Epoch: 040/050 cost: 171.438065812 train_acc: 0.950 test_acc: 0.917\n",
      "Epoch: 045/050 cost: 168.961143970 train_acc: 0.930 test_acc: 0.918\n",
      "Epoch: 050/050 cost: 166.834093489 train_acc: 0.880 test_acc: 0.919\n",
      "Complete!\n"
     ]
    }
   ],
   "source": [
    "training_epochs = 50    #进行50次epoch\n",
    "batch_size = 100     # 对于每一个epoch，每次迭代训练选择的样本数\n",
    "display_step = 5\n",
    "with tf.Session() as sess:\n",
    "    sess.run(init_op)\n",
    "    for epoch in range(1, training_epochs + 1, 1):\n",
    "        avg_cost = 0.\n",
    "        num_batch = int(mnist.train.num_examples / batch_size)    # 对于每一个epoch，所需要的每一个batch的训练样本数\n",
    "        for i in range(1, num_batch + 1, 1):\n",
    "            batch_xs, batch_ys = mnist.train.next_batch(batch_size)\n",
    "            sess.run(train_op, feed_dict = {x: batch_xs, y: batch_ys})\n",
    "            avg_cost += sess.run(cost, feed_dict = {x: batch_xs, y: batch_ys})\n",
    "        # display \n",
    "        if epoch % display_step == 0:\n",
    "            feeds_train = {x: batch_xs, y: batch_ys}\n",
    "            feeds_test = {x: mnist.test.images, y: mnist.test.labels}\n",
    "            train_acc = sess.run(acc, feed_dict = feeds_train)\n",
    "            test_acc = sess.run(acc, feed_dict = feeds_test)\n",
    "            print(\"Epoch: %03d/%03d cost: %.9f train_acc: %.3f test_acc: %.3f\" % (epoch, training_epochs, avg_cost, train_acc, test_acc))\n",
    "print(\"Complete!\")"
   ]
  }
 ],
 "metadata": {
  "kernelspec": {
   "display_name": "Python 3",
   "language": "python",
   "name": "python3"
  },
  "language_info": {
   "codemirror_mode": {
    "name": "ipython",
    "version": 3
   },
   "file_extension": ".py",
   "mimetype": "text/x-python",
   "name": "python",
   "nbconvert_exporter": "python",
   "pygments_lexer": "ipython3",
   "version": "3.6.5"
  }
 },
 "nbformat": 4,
 "nbformat_minor": 2
}
