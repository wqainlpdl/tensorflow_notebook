{
 "cells": [
  {
   "cell_type": "markdown",
   "metadata": {},
   "source": [
    "# Logistic Regression Model"
   ]
  },
  {
   "cell_type": "code",
   "execution_count": 3,
   "metadata": {},
   "outputs": [
    {
     "name": "stdout",
     "output_type": "stream",
     "text": [
      "WARNING:tensorflow:From <ipython-input-3-657243cbdd27>:5: read_data_sets (from tensorflow.contrib.learn.python.learn.datasets.mnist) is deprecated and will be removed in a future version.\n",
      "Instructions for updating:\n",
      "Please use alternatives such as official/mnist/dataset.py from tensorflow/models.\n",
      "WARNING:tensorflow:From /Users/ybai/anaconda3/lib/python3.6/site-packages/tensorflow/contrib/learn/python/learn/datasets/mnist.py:260: maybe_download (from tensorflow.contrib.learn.python.learn.datasets.base) is deprecated and will be removed in a future version.\n",
      "Instructions for updating:\n",
      "Please write your own downloading logic.\n",
      "WARNING:tensorflow:From /Users/ybai/anaconda3/lib/python3.6/site-packages/tensorflow/contrib/learn/python/learn/datasets/mnist.py:262: extract_images (from tensorflow.contrib.learn.python.learn.datasets.mnist) is deprecated and will be removed in a future version.\n",
      "Instructions for updating:\n",
      "Please use tf.data to implement this functionality.\n",
      "Extracting ./mnist/train-images-idx3-ubyte.gz\n",
      "WARNING:tensorflow:From /Users/ybai/anaconda3/lib/python3.6/site-packages/tensorflow/contrib/learn/python/learn/datasets/mnist.py:267: extract_labels (from tensorflow.contrib.learn.python.learn.datasets.mnist) is deprecated and will be removed in a future version.\n",
      "Instructions for updating:\n",
      "Please use tf.data to implement this functionality.\n",
      "Extracting ./mnist/train-labels-idx1-ubyte.gz\n",
      "WARNING:tensorflow:From /Users/ybai/anaconda3/lib/python3.6/site-packages/tensorflow/contrib/learn/python/learn/datasets/mnist.py:110: dense_to_one_hot (from tensorflow.contrib.learn.python.learn.datasets.mnist) is deprecated and will be removed in a future version.\n",
      "Instructions for updating:\n",
      "Please use tf.one_hot on tensors.\n",
      "Extracting ./mnist/t10k-images-idx3-ubyte.gz\n",
      "Extracting ./mnist/t10k-labels-idx1-ubyte.gz\n",
      "WARNING:tensorflow:From /Users/ybai/anaconda3/lib/python3.6/site-packages/tensorflow/contrib/learn/python/learn/datasets/mnist.py:290: DataSet.__init__ (from tensorflow.contrib.learn.python.learn.datasets.mnist) is deprecated and will be removed in a future version.\n",
      "Instructions for updating:\n",
      "Please use alternatives such as official/mnist/dataset.py from tensorflow/models.\n",
      "MNIST datasets loaded\n"
     ]
    }
   ],
   "source": [
    "import numpy as np\n",
    "import matplotlib.pyplot as plt\n",
    "import tensorflow as tf\n",
    "from tensorflow.examples.tutorials.mnist import input_data\n",
    "mnist = input_data.read_data_sets(\"./mnist/\", one_hot = True)\n",
    "train_imgs = mnist.train.images\n",
    "train_labels = mnist.train.labels\n",
    "test_imgs = mnist.test.images\n",
    "test_labels = mnist.test.labels\n",
    "print(\"MNIST datasets loaded\")"
   ]
  },
  {
   "cell_type": "markdown",
   "metadata": {},
   "source": [
    "## sample shape and information"
   ]
  },
  {
   "cell_type": "code",
   "execution_count": 4,
   "metadata": {},
   "outputs": [
    {
     "name": "stdout",
     "output_type": "stream",
     "text": [
      "train images shape = (55000, 784)\n",
      "train labels shape = (55000, 10)\n",
      "test images shape = (10000, 784)\n",
      "test labels shape = (10000, 10)\n",
      "train labels the first image label onehot code = [0. 0. 0. 0. 0. 0. 0. 1. 0. 0.]\n"
     ]
    }
   ],
   "source": [
    "print(\"train images shape = {0}\".format(train_imgs.shape))\n",
    "print(\"train labels shape = {0}\".format(train_labels.shape))\n",
    "print(\"test images shape = {0}\".format(test_imgs.shape))\n",
    "print(\"test labels shape = {0}\".format(test_labels.shape))\n",
    "print(\"train labels the first image label onehot code = {0}\".format(train_labels[0]))"
   ]
  },
  {
   "cell_type": "markdown",
   "metadata": {},
   "source": [
    "## 开始训练Logistic Regression Model"
   ]
  },
  {
   "cell_type": "code",
   "execution_count": 5,
   "metadata": {},
   "outputs": [],
   "source": [
    "x = tf.placeholder(dtype = tf.float32, shape = [None, 784])\n",
    "y = tf.placeholder(dtype = tf.float32, shape = [None, 10])\n",
    "W = tf.Variable(tf.zeros([784, 10]))\n",
    "b = tf.Variable(tf.zeros([10]))\n",
    "# Logistic Regression Model\n",
    "activation = tf.nn.softmax(tf.matmul(x, W) + b) # softmax是更高版本的Logistic Regression\n",
    "# cost function\n",
    "cost = tf.reduce_mean(-tf.reduce_sum(y * tf.log(activation), reduction_indices = 1))\n",
    "# optimizer\n",
    "optimizer = tf.train.GradientDescentOptimizer(learning_rate = 0.01)\n",
    "train_op = optimizer.minimize(cost)"
   ]
  },
  {
   "cell_type": "code",
   "execution_count": 6,
   "metadata": {},
   "outputs": [],
   "source": [
    "# prediction\n",
    "pred = tf.equal(tf.argmax(activation, 1), tf.argmax(y, 1)) # 比较输出值的最大值的索引与目标值最大值的索引是否相等\n",
    "# accuracy\n",
    "acc = tf.reduce_mean(tf.cast(pred, dtype = tf.float32)) # pred的值是一个boolean值， True or False，cast函数将pred转换为float类型\n",
    "# initialize variable\n",
    "init_op = tf.global_variables_initializer()"
   ]
  },
  {
   "cell_type": "markdown",
   "metadata": {},
   "source": [
    "## 测试一些与矩阵相关的函数"
   ]
  },
  {
   "cell_type": "code",
   "execution_count": 7,
   "metadata": {},
   "outputs": [
    {
     "name": "stdout",
     "output_type": "stream",
     "text": [
      "matrix dimension(rank) = 2\n",
      "matrix shape = [5 6]\n",
      "for every column, the index of the max value is [0 3 2 3 0 1]\n",
      "for every row, the index of the max value is [5 5 2 3 3]\n"
     ]
    }
   ],
   "source": [
    "sess = tf.InteractiveSession()   # start Interactive Session\n",
    "matrix_test = np.array([[31, 23, 4, 24, 27,34],\n",
    "                        [18, 3, 25, 0, 6, 35],\n",
    "                        [28, 14, 33, 22, 20, 8],\n",
    "                        [13, 30, 26, 32, 2, 29],\n",
    "                        [16, 1, 26, 32, 2, 2]])\n",
    "# test matrix dimension(rank)\n",
    "matrix_rank = tf.rank(matrix_test)\n",
    "print(\"matrix dimension(rank) = {0}\".format(matrix_rank.eval()))\n",
    "# test matrix shape\n",
    "matrix_shape = tf.shape(matrix_test)\n",
    "print(\"matrix shape = {0}\".format(matrix_shape.eval()))\n",
    "# return the index of the max value\n",
    "matrix_colIndex_maxValue = tf.argmax(matrix_test, 0)  # for each column, return the index of the max value\n",
    "print(\"for every column, the index of the max value is {0}\".format(sess.run(matrix_colIndex_maxValue)))\n",
    "matrix_rowIndex_maxValue = tf.argmax(matrix_test, 1)  # for each row, return the index of the max value\n",
    "print(\"for every row, the index of the max value is {0}\".format(sess.run(matrix_rowIndex_maxValue)))\n",
    "sess.close()         # close Session"
   ]
  },
  {
   "cell_type": "markdown",
   "metadata": {},
   "source": [
    "## 初始化变量，进行模型的训练"
   ]
  },
  {
   "cell_type": "code",
   "execution_count": 1,
   "metadata": {},
   "outputs": [
    {
     "ename": "NameError",
     "evalue": "name 'init_op' is not defined",
     "output_type": "error",
     "traceback": [
      "\u001b[0;31m---------------------------------------------------------------------------\u001b[0m",
      "\u001b[0;31mNameError\u001b[0m                                 Traceback (most recent call last)",
      "\u001b[0;32m<ipython-input-1-27f2e92098bd>\u001b[0m in \u001b[0;36m<module>\u001b[0;34m\u001b[0m\n\u001b[1;32m      4\u001b[0m \u001b[0mdisplay_step\u001b[0m \u001b[0;34m=\u001b[0m \u001b[0;36m5\u001b[0m\u001b[0;34m\u001b[0m\u001b[0m\n\u001b[1;32m      5\u001b[0m \u001b[0;32mwith\u001b[0m \u001b[0mtf\u001b[0m\u001b[0;34m.\u001b[0m\u001b[0mSession\u001b[0m\u001b[0;34m(\u001b[0m\u001b[0;34m)\u001b[0m \u001b[0;32mas\u001b[0m \u001b[0msess\u001b[0m\u001b[0;34m:\u001b[0m\u001b[0;34m\u001b[0m\u001b[0m\n\u001b[0;32m----> 6\u001b[0;31m     \u001b[0msess\u001b[0m\u001b[0;34m.\u001b[0m\u001b[0mrun\u001b[0m\u001b[0;34m(\u001b[0m\u001b[0minit_op\u001b[0m\u001b[0;34m)\u001b[0m\u001b[0;34m\u001b[0m\u001b[0m\n\u001b[0m\u001b[1;32m      7\u001b[0m     \u001b[0;32mfor\u001b[0m \u001b[0mepoch\u001b[0m \u001b[0;32min\u001b[0m \u001b[0mrange\u001b[0m\u001b[0;34m(\u001b[0m\u001b[0;36m1\u001b[0m\u001b[0;34m,\u001b[0m \u001b[0mtraining_epochs\u001b[0m \u001b[0;34m+\u001b[0m \u001b[0;36m1\u001b[0m\u001b[0;34m,\u001b[0m \u001b[0;36m1\u001b[0m\u001b[0;34m)\u001b[0m\u001b[0;34m:\u001b[0m\u001b[0;34m\u001b[0m\u001b[0m\n\u001b[1;32m      8\u001b[0m         \u001b[0mavg_cost\u001b[0m \u001b[0;34m=\u001b[0m \u001b[0;36m0.\u001b[0m\u001b[0;34m\u001b[0m\u001b[0m\n",
      "\u001b[0;31mNameError\u001b[0m: name 'init_op' is not defined"
     ]
    }
   ],
   "source": [
    "training_epochs = 10    #进行50次epoch\n",
    "batch_size = 100     # 对于每一个epoch，每次迭代训练选择的样本数\n",
    "display_step = 5\n",
    "with tf.Session() as sess:\n",
    "    sess.run(init_op)\n",
    "    for epoch in range(1, training_epochs + 1, 1):\n",
    "        avg_cost = 0.\n",
    "        num_batch = int(mnist.train.num_examples / batch_size)    # 对于每一个epoch，所需要的每一个batch的训练样本数\n",
    "        for i in range(1, num_batch + 1, 1):\n",
    "            batch_xs, batch_ys = mnist.train.next_batch(batch_size)\n",
    "            sess.run(train_op, feed_dict = {x: batch_xs, y: batch_ys})\n",
    "            avg_cost += sess.run(cost, feed_dict = {x: batch_xs, y: batch_ys})\n",
    "        # display \n",
    "        if epoch % display_step == 0:\n",
    "            feeds_train = {x: train_xs, y: train_ys}\n",
    "            feeds_test = {x: mnist.test.images, y: mnist.test.labels}\n",
    "            train_acc = sess.run(acc, feed_dict = feeds_train)\n",
    "            test_acc = sess.run(acc, feed_dict = feeds_test)\n",
    "            print(\"Epoch: %03d/%03d cost: %.9f train_acc: %.3f test_acc: %.3f\" % (epoch, training_epochs, avg_cost,\\\n",
    "                                                                                 train_acc, test_acc))\n",
    "print(\"Complete!\")"
   ]
  },
  {
   "cell_type": "code",
   "execution_count": null,
   "metadata": {},
   "outputs": [],
   "source": []
  }
 ],
 "metadata": {
  "kernelspec": {
   "display_name": "Python 3",
   "language": "python",
   "name": "python3"
  },
  "language_info": {
   "codemirror_mode": {
    "name": "ipython",
    "version": 3
   },
   "file_extension": ".py",
   "mimetype": "text/x-python",
   "name": "python",
   "nbconvert_exporter": "python",
   "pygments_lexer": "ipython3",
   "version": "3.6.6"
  }
 },
 "nbformat": 4,
 "nbformat_minor": 2
}
