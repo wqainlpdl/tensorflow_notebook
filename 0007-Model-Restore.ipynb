{
 "cells": [
  {
   "cell_type": "markdown",
   "metadata": {},
   "source": [
    "# Deep Model Restore"
   ]
  },
  {
   "cell_type": "code",
   "execution_count": 1,
   "metadata": {},
   "outputs": [
    {
     "name": "stderr",
     "output_type": "stream",
     "text": [
      "H:\\anaconda_env\\anaconda_install\\lib\\site-packages\\h5py\\__init__.py:36: FutureWarning: Conversion of the second argument of issubdtype from `float` to `np.floating` is deprecated. In future, it will be treated as `np.float64 == np.dtype(float).type`.\n",
      "  from ._conv import register_converters as _register_converters\n"
     ]
    },
    {
     "name": "stdout",
     "output_type": "stream",
     "text": [
      "v1 =  [[ 0.03502119 -1.0247384 ]]\n",
      "v2 =  [[ 1.3078737  -0.04268625  0.08415225]\n",
      " [-0.8893986  -0.6022148  -1.2482926 ]]\n",
      "Model saved in file:  Save/model.ckpt\n"
     ]
    }
   ],
   "source": [
    "import tensorflow as tf\n",
    "v1 = tf.Variable(tf.random_normal([1, 2]), name = \"v1\")\n",
    "v2 = tf.Variable(tf.random_normal([2, 3]), name = \"v2\")\n",
    "init_op = tf.global_variables_initializer()\n",
    "saver = tf.train.Saver()\n",
    "with tf.Session() as sess:\n",
    "    sess.run(init_op)\n",
    "    print(\"v1 = \", sess.run(v1))\n",
    "    print(\"v2 = \", sess.run(v2))\n",
    "    saver_path = saver.save(sess, \"Save/model.ckpt\")\n",
    "    print(\"Model saved in file: \", saver_path)"
   ]
  },
  {
   "attachments": {
    "%E5%9B%BE%E7%89%87.png": {
     "image/png": "[encoded data removed]"
    }
   },
   "cell_type": "markdown",
   "metadata": {},
   "source": [
    "上面执行的结果截图\n",
    "![%E5%9B%BE%E7%89%87.png](attachment:%E5%9B%BE%E7%89%87.png)"
   ]
  },
  {
   "cell_type": "markdown",
   "metadata": {},
   "source": [
    "## 重新从模型的保存文件中载入模型的参数读取内容\n",
    "来进行验证"
   ]
  },
  {
   "cell_type": "code",
   "execution_count": 1,
   "metadata": {},
   "outputs": [
    {
     "name": "stderr",
     "output_type": "stream",
     "text": [
      "H:\\anaconda_env\\anaconda_install\\lib\\site-packages\\h5py\\__init__.py:36: FutureWarning: Conversion of the second argument of issubdtype from `float` to `np.floating` is deprecated. In future, it will be treated as `np.float64 == np.dtype(float).type`.\n",
      "  from ._conv import register_converters as _register_converters\n"
     ]
    },
    {
     "name": "stdout",
     "output_type": "stream",
     "text": [
      "INFO:tensorflow:Restoring parameters from Save/model.ckpt\n",
      "v1 =  [[ 0.03502119 -1.0247384 ]]\n",
      "v2 =  [[ 1.3078737  -0.04268625  0.08415225]\n",
      " [-0.8893986  -0.6022148  -1.2482926 ]]\n",
      "parameter load successfully.\n"
     ]
    }
   ],
   "source": [
    "# 注意上面代码的执行了一次，为了验证是否正确的对参数进行了存储，需要取消掉上面代码的执行，因此，\n",
    "# 重新启动kernel，直接执行下面的代码，来读取参数，即可验证\n",
    "import tensorflow as tf\n",
    "v1 = tf.Variable(tf.random_normal([1, 2]), name = \"v1\")\n",
    "v2 = tf.Variable(tf.random_normal([2, 3]), name = \"v2\")\n",
    "saver = tf.train.Saver()\n",
    "with tf.Session() as sess:\n",
    "    saver.restore(sess, \"Save/model.ckpt\")    # 读取模型\n",
    "    print(\"v1 = \", sess.run(v1))\n",
    "    print(\"v2 = \", sess.run(v2))\n",
    "\n",
    "print(\"parameter load successfully.\")"
   ]
  }
 ],
 "metadata": {
  "kernelspec": {
   "display_name": "Python 3",
   "language": "python",
   "name": "python3"
  },
  "language_info": {
   "codemirror_mode": {
    "name": "ipython",
    "version": 3
   },
   "file_extension": ".py",
   "mimetype": "text/x-python",
   "name": "python",
   "nbconvert_exporter": "python",
   "pygments_lexer": "ipython3",
   "version": "3.6.5"
  }
 },
 "nbformat": 4,
 "nbformat_minor": 2
}
